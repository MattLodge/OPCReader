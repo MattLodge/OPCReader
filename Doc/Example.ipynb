{
 "cells": [
  {
   "cell_type": "code",
   "execution_count": null,
   "metadata": {
    "collapsed": true
   },
   "outputs": [
    {
     "name": "stdout",
     "output_type": "stream",
     "text": [
      "                  OADateTime  Bin00  Bin01  Bin02  Bin03  Bin04  Bin05  Bin06  \\\n0 2018-05-16 15:13:14.302001  2.015  0.000  0.000  1.007    0.0    0.0  2.015   \n1 2018-05-16 15:13:15.316000  4.029  0.000  1.007  0.000    0.0    0.0  2.015   \n2 2018-05-16 15:13:16.330000  0.000  1.007  0.000  1.007    0.0    0.0  0.000   \n3 2018-05-16 15:13:17.343999  3.023  1.008  2.015  0.000    0.0    0.0  2.015   \n4 2018-05-16 15:13:18.357997  3.022  2.015  2.015  2.015    0.0    0.0  0.000   \n\n   Bin07  Bin08      ...        Count/s  SamplingPeriod(s)  SFR(ml/s)  \\\n0  0.000    0.0      ...          5.037              0.993       3.22   \n1  1.007    0.0      ...          8.058              0.993       3.22   \n2  0.000    0.0      ...          2.015              0.993       3.22   \n3  0.000    0.0      ...          8.061              0.992       3.20   \n4  0.000    0.0      ...          9.065              0.993       3.21   \n\n   Temperature(C) or Pressure(Pa)  PM1(ug/m3)  PM2.5(ug/m3)  PM10(ug/m3)  \\\n0                               x        0.29          4.47         8.69   \n1                               x        0.32          6.42        18.94   \n2                               x        0.21          0.51         0.52   \n3                               x        0.47          4.56         8.79   \n4                               x        0.74          1.49         1.53   \n\n   RollMean_PM1  RollMean_PM2.5  RollMean_PM10  \n0          0.29            4.47           8.69  \n1          0.30            5.44          13.82  \n2          0.27            3.80           9.38  \n3          0.32            3.99           9.23  \n4          0.40            3.49           7.69  \n\n[5 rows x 31 columns]\n"
     ]
    }
   ],
   "source": [
    "from OPCReader import parse\n",
    "from OPCReader.statistics import average_conc\n",
    "\n",
    "meta, bin_data, data = parse('./3 micron testing 30min.csv')\n"
   ]
  },
  {
   "cell_type": "code",
   "execution_count": 9,
   "metadata": {
    "collapsed": true
   },
   "outputs": [
    {
     "name": "stdout",
     "output_type": "stream",
     "text": [
      "                  OADateTime  Bin00  Bin01  Bin02  Bin03  Bin04  Bin05  Bin06  \\\n0 2018-05-16 15:13:14.302001  2.015  0.000  0.000  1.007    0.0    0.0  2.015   \n1 2018-05-16 15:13:15.316000  4.029  0.000  1.007  0.000    0.0    0.0  2.015   \n2 2018-05-16 15:13:16.330000  0.000  1.007  0.000  1.007    0.0    0.0  0.000   \n3 2018-05-16 15:13:17.343999  3.023  1.008  2.015  0.000    0.0    0.0  2.015   \n4 2018-05-16 15:13:18.357997  3.022  2.015  2.015  2.015    0.0    0.0  0.000   \n\n   Bin07  Bin08      ...        Count/s  SamplingPeriod(s)  SFR(ml/s)  \\\n0  0.000    0.0      ...          5.037              0.993       3.22   \n1  1.007    0.0      ...          8.058              0.993       3.22   \n2  0.000    0.0      ...          2.015              0.993       3.22   \n3  0.000    0.0      ...          8.061              0.992       3.20   \n4  0.000    0.0      ...          9.065              0.993       3.21   \n\n   Temperature(C) or Pressure(Pa)  PM1(ug/m3)  PM2.5(ug/m3)  PM10(ug/m3)  \\\n0                               x        0.29          4.47         8.69   \n1                               x        0.32          6.42        18.94   \n2                               x        0.21          0.51         0.52   \n3                               x        0.47          4.56         8.79   \n4                               x        0.74          1.49         1.53   \n\n   RollMean_PM1  RollMean_PM2.5  RollMean_PM10  \n0          0.29            4.47           8.69  \n1          0.30            5.44          13.82  \n2          0.27            3.80           9.38  \n3          0.32            3.99           9.23  \n4          0.40            3.49           7.69  \n\n[5 rows x 31 columns]\n"
     ]
    }
   ],
   "source": [
    "print(data.head())\n"
   ]
  },
  {
   "cell_type": "code",
   "execution_count": null,
   "metadata": {},
   "outputs": [],
   "source": [
    "print(average_conc(data))\n",
    "print(average_conc(data, 50, 100))"
   ]
  }
 ],
 "metadata": {
  "kernelspec": {
   "display_name": "Python 2",
   "language": "python",
   "name": "python2"
  },
  "language_info": {
   "codemirror_mode": {
    "name": "ipython",
    "version": 2
   },
   "file_extension": ".py",
   "mimetype": "text/x-python",
   "name": "python",
   "nbconvert_exporter": "python",
   "pygments_lexer": "ipython2",
   "version": "2.7.6"
  }
 },
 "nbformat": 4,
 "nbformat_minor": 0
}
